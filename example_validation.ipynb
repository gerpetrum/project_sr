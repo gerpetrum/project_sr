{
 "cells": [
  {
   "cell_type": "code",
   "execution_count": 11,
   "metadata": {
    "collapsed": true,
    "pycharm": {
     "is_executing": false
    }
   },
   "outputs": [],
   "source": [
    "%load_ext autoreload\n",
    "%autoreload 2"
   ]
  },
  {
   "cell_type": "code",
   "execution_count": 60,
   "outputs": [],
   "source": [
    "from ISR.models import RDN, RRDN\n",
    "import pytesseract\n",
    "import editdistance\n",
    "from PIL import Image\n",
    "import numpy as np\n",
    "import cv2\n",
    "import matplotlib.pyplot as plt\n",
    "from time import gmtime, strftime\n",
    "from pathlib import Path\n",
    "import tqdm\n",
    "\n",
    "pytesseract.pytesseract.tesseract_cmd = './tesseract/tesseract.exe'"
   ],
   "metadata": {
    "collapsed": false,
    "pycharm": {
     "name": "#%%\n",
     "is_executing": false
    }
   }
  },
  {
   "cell_type": "markdown",
   "source": [
    "## Params model and image paths"
   ],
   "metadata": {
    "collapsed": false
   }
  },
  {
   "cell_type": "code",
   "execution_count": 14,
   "outputs": [],
   "source": [
    "# Params model and path pre-train weights\n",
    "weights = 'weights/pre-train/rrdn-C4-D3-G32-G032-T10-x4/Perceptual/rrdn-C4-D3-G32-G032-T10-x4_epoch299.hdf5'\n",
    "C = 4\n",
    "D = 3\n",
    "G = 32\n",
    "G0 = 32\n",
    "T = 10\n",
    "scale = 4\n",
    "dpi = 300\n",
    "type = 'RRDN'\n",
    "\n",
    "# Image paths\n",
    "time = strftime(\"%Y-%m-%d_%H_%M_%S\", gmtime())\n",
    "path = 'Experiments/Source/'\n",
    "path_sr = './'\n",
    "name_model = 'sr_{type}_{c}_{d}_{g}_{g0}_{t}_{scale}_{time}.jpg'\n",
    "\n",
    "valid_dir = 'Samples/300dpi'\n",
    "predict_valid_dir = '.'\n",
    "\n",
    "lr = str(Path(path + '75.jpg'))\n",
    "sr = str(Path(path_sr + name_model.format(type=type, c=C, d=D, g=G, g0=G0, t=T, scale=scale, time=time) + '.jpg'))\n",
    "hr = str(Path(path + '300.jpg'))"
   ],
   "metadata": {
    "collapsed": false,
    "pycharm": {
     "name": "#%%\n",
     "is_executing": false
    }
   }
  },
  {
   "cell_type": "markdown",
   "source": [
    "## Load model and predict"
   ],
   "metadata": {
    "collapsed": false
   }
  },
  {
   "cell_type": "code",
   "execution_count": 3,
   "outputs": [
    {
     "name": "stdout",
     "text": [
      "WARNING:tensorflow:From C:\\Users\\evgen\\Miniconda3\\lib\\site-packages\\tensorflow\\python\\ops\\resource_variable_ops.py:435: colocate_with (from tensorflow.python.framework.ops) is deprecated and will be removed in a future version.\nInstructions for updating:\nColocations handled automatically by placer.\n",
      "Wall time: 4.67 s\n"
     ],
     "output_type": "stream"
    }
   ],
   "source": [
    "%%time\n",
    "if type is 'RDN':\n",
    "    rdn = RDN(arch_params={'C': C, 'D': D, 'G': G, 'G0': G0, 'T': T, 'x': scale})\n",
    "else:\n",
    "    rdn = RRDN(arch_params={'C': C, 'D': D, 'G': G, 'G0': G0, 'T': T, 'x': scale})\n",
    "\n",
    "rdn.model.load_weights(weights)"
   ],
   "metadata": {
    "collapsed": false,
    "pycharm": {
     "name": "#%%\n",
     "is_executing": false
    }
   }
  },
  {
   "cell_type": "code",
   "execution_count": null,
   "outputs": [],
   "source": [
    "image_sr = rdn.predict(np.array(Image.open(lr)))\n",
    "Image.fromarray(image_sr).save(sr, dpi=(dpi, dpi))"
   ],
   "metadata": {
    "collapsed": false,
    "pycharm": {
     "name": "#%%\n"
    }
   }
  },
  {
   "cell_type": "markdown",
   "source": [
    "## Show crop images (Orginal, Model, Bicubic)"
   ],
   "metadata": {
    "collapsed": false
   }
  },
  {
   "cell_type": "code",
   "execution_count": null,
   "outputs": [],
   "source": [
    "paths = [hr, sr, lr]\n",
    "label = ['Bicubic X{scale}'.format(scale=scale), \n",
    "         'Model X{scale}'.format(scale=scale), \n",
    "         'Original']\n",
    "image_crops = path + 'crops.jpg'"
   ],
   "metadata": {
    "collapsed": false,
    "pycharm": {
     "name": "#%%\n"
    }
   }
  },
  {
   "cell_type": "code",
   "execution_count": null,
   "outputs": [],
   "source": [
    "columns = 2\n",
    "rows = 2\n",
    "w0, h0 = 75, 250\n",
    "w1, h1 = 500, 350\n",
    "figsize = (10, 4)"
   ],
   "metadata": {
    "collapsed": false,
    "pycharm": {
     "name": "#%%\n"
    }
   }
  },
  {
   "cell_type": "code",
   "execution_count": null,
   "outputs": [],
   "source": [
    "images = [np.array(Image.open(image)) for image in paths]\n",
    "fig = plt.figure(figsize=figsize)\n",
    "\n",
    "for i in range(1, len(images)+1):\n",
    "    ax = fig.add_subplot(rows, columns, i)\n",
    "    ax.set_title(label[i-1])\n",
    "    dh = images[i-1].shape[0]//images[-1].shape[0]\n",
    "    dw = images[i-1].shape[1]//images[-1].shape[1]\n",
    "    plt.imshow(images[i-1][h0*dh:h1*dh, w0*dw:w1*dw])\n",
    "\n",
    "plt.savefig(image_crops, dpi=dpi)\n",
    "plt.show()"
   ],
   "metadata": {
    "collapsed": false,
    "pycharm": {
     "name": "#%%\n"
    }
   }
  },
  {
   "cell_type": "markdown",
   "source": [
    "## OCR-metric based Tesseract-OCR\n"
   ],
   "metadata": {
    "collapsed": false,
    "pycharm": {
     "name": "#%% md\n",
     "is_executing": false
    }
   }
  },
  {
   "cell_type": "code",
   "execution_count": 69,
   "outputs": [],
   "source": [
    "def OCR(y_true, y_pred):\n",
    "    try:\n",
    "        ocr_origin = pytesseract.image_to_string(y_true).split()\n",
    "    except pytesseract.TesseractError:\n",
    "        ocr_origin = ['']\n",
    "\n",
    "    try:\n",
    "        ocr_sr = pytesseract.image_to_string(y_pred).split()\n",
    "    except pytesseract.TesseractError:\n",
    "        ocr_sr = ['']\n",
    "\n",
    "    return 1 - editdistance.eval(ocr_origin, ocr_sr) / ocr_origin.__len__()"
   ],
   "metadata": {
    "collapsed": false,
    "pycharm": {
     "name": "#%%\n",
     "is_executing": false
    }
   }
  },
  {
   "cell_type": "code",
   "execution_count": 70,
   "outputs": [
    {
     "name": "stdout",
     "text": [
      "Wall time: 18.7 s",
      "\n"
     ],
     "output_type": "stream"
    },
    {
     "data": {
      "text/plain": "0.9091995221027479"
     },
     "metadata": {},
     "output_type": "execute_result",
     "execution_count": 70
    }
   ],
   "source": [
    "%%time\n",
    "OCR(Image.open(hr), Image.open(sr))"
   ],
   "metadata": {
    "collapsed": false,
    "pycharm": {
     "name": "#%%\n",
     "is_executing": false
    }
   }
  },
  {
   "cell_type": "code",
   "execution_count": 51,
   "outputs": [],
   "source": [
    "def low_resolution(image, scale, method=cv2.INTER_CUBIC):\n",
    "    return cv2.resize(image, \n",
    "                      dsize=(image.shape[1]//scale, image.shape[0]//scale), \n",
    "                      interpolation=method)"
   ],
   "metadata": {
    "collapsed": false,
    "pycharm": {
     "name": "#%%\n",
     "is_executing": false
    }
   }
  },
  {
   "cell_type": "code",
   "execution_count": null,
   "outputs": [
    {
     "name": "stderr",
     "text": [
      "\n\n\n\n\n\n\n\n\n\n\n\n\n\n\n\n",
      "\r0it [00:00, ?it/s]",
      "\n\n\n\n\n\n\n\n\n\n\n\n\n\n\n\n",
      "\r1it [01:37, 97.05s/it]",
      "\n\n\n\n\n\n\n\n\n\n\n\n\n\n\n\n",
      "\r2it [03:29, 101.58s/it]"
     ],
     "output_type": "stream"
    },
    {
     "name": "stdout",
     "text": [
      "Samples\\300dpi\\1 (10).jpg",
      "\n",
      "Samples\\300dpi\\1 (11).jpg",
      "\n",
      "Samples\\300dpi\\1 (12).jpg",
      "\n"
     ],
     "output_type": "stream"
    }
   ],
   "source": [
    "ocr = []\n",
    "\n",
    "for image in tqdm.tqdm(Path(valid_dir).glob('*.jpg')):\n",
    "    ground_truth = np.array(Image.open(image))\n",
    "    low_res = low_resolution(ground_truth, scale)\n",
    "    Image.fromarray(rdn.predict(low_res)).save(Path(predict_valid_dir + '/' + image.name))\n",
    "    ocr.append(OCR(ground_truth, Image.open(Path(predict_valid_dir + '/' + image.name))))\n",
    "    "
   ],
   "metadata": {
    "collapsed": false,
    "pycharm": {
     "name": "#%%\n",
     "is_executing": true
    }
   }
  },
  {
   "cell_type": "code",
   "execution_count": null,
   "outputs": [],
   "source": [
    "np.average(ocr)\n",
    "\n"
   ],
   "metadata": {
    "collapsed": false,
    "pycharm": {
     "name": "#%%\n",
     "is_executing": false
    }
   }
  }
 ],
 "metadata": {
  "language_info": {
   "codemirror_mode": {
    "name": "ipython",
    "version": 2
   },
   "file_extension": ".py",
   "mimetype": "text/x-python",
   "name": "python",
   "nbconvert_exporter": "python",
   "pygments_lexer": "ipython2",
   "version": "2.7.6"
  },
  "kernelspec": {
   "name": "python3",
   "language": "python",
   "display_name": "Python 3"
  },
  "pycharm": {
   "stem_cell": {
    "cell_type": "raw",
    "source": [],
    "metadata": {
     "collapsed": false
    }
   }
  }
 },
 "nbformat": 4,
 "nbformat_minor": 0
}