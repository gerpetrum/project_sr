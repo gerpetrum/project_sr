{
 "cells": [
  {
   "cell_type": "code",
   "execution_count": 2,
   "metadata": {
    "collapsed": true,
    "pycharm": {
     "is_executing": false
    }
   },
   "outputs": [
    {
     "name": "stderr",
     "text": [
      "Using TensorFlow backend.\n"
     ],
     "output_type": "stream"
    }
   ],
   "source": [
    "import cv2\n",
    "from ISR.models import RDN, RRDN\n",
    "from PIL import Image\n",
    "import numpy as np\n",
    "from time import gmtime, strftime\n",
    "from pathlib import Path"
   ]
  },
  {
   "cell_type": "markdown",
   "source": [
    "## Params model and image paths"
   ],
   "metadata": {
    "collapsed": false,
    "pycharm": {
     "name": "#%% md\n",
     "is_executing": false
    }
   }
  },
  {
   "cell_type": "code",
   "execution_count": 18,
   "outputs": [],
   "source": [
    "# Params model and path pre-train weights\n",
    "weights = '../../weights/rrdn-C4-D3-G32-G032-T10-x4/2020-01-04_22_04_54/rrdn-C4-D3-G32-G032-T10-x4batch000100_epoch092.hdf5'\n",
    "C = 4\n",
    "D = 3\n",
    "G = 32\n",
    "G0 = 32\n",
    "T = 10\n",
    "scale = 4\n",
    "dpi = 300\n",
    "type = 'RRDN'\n",
    "\n",
    "# Image paths\n",
    "time = strftime(\"%Y-%m-%d_%H_%M_%S\", gmtime())\n",
    "path = '../../Results/Source/'\n",
    "path_sr = './'\n",
    "name_model = 'sr_{type}_{c}_{d}_{g}_{g0}_{t}_{scale}_{time}'\n",
    "\n",
    "lr = str(Path(path + '75.jpg'))\n",
    "sr = str(Path(path_sr + name_model.format(type=type, c=C, d=D, g=G, g0=G0, t=T, scale=scale, time=time) + '.jpg'))\n",
    "hr = str(Path(path + '300.jpg'))\n",
    "dst_path = str(Path(path_sr + \n",
    "                    name_model.format(type=type, c=C, d=D, g=G, g0=G0, t=T, scale=scale, time=time) + \n",
    "                    '_mask_{mask}.jpg'))\n",
    "\n",
    "masks = {'full': [1, 1, 1],\n",
    "         'r':    [1, 0, 0],\n",
    "         'g':    [0, 1, 0],\n",
    "         'b':    [0, 0, 1]}"
   ],
   "metadata": {
    "collapsed": false,
    "pycharm": {
     "name": "#%%\n",
     "is_executing": false
    }
   }
  },
  {
   "cell_type": "markdown",
   "source": [
    "## Load model and predict"
   ],
   "metadata": {
    "collapsed": false
   }
  },
  {
   "cell_type": "code",
   "execution_count": 13,
   "outputs": [
    {
     "name": "stdout",
     "text": [
      "Wall time: 1min 30s\n"
     ],
     "output_type": "stream"
    }
   ],
   "source": [
    "%%time\n",
    "if type is 'RDN':\n",
    "    rdn = RDN(arch_params={'C': C, 'D': D, 'G': G, 'G0': G0, 'T': T, 'x': scale})\n",
    "else:\n",
    "    rdn = RRDN(arch_params={'C': C, 'D': D, 'G': G, 'G0': G0, 'T': T, 'x': scale})\n",
    "\n",
    "rdn.model.load_weights(weights)\n",
    "image_sr = rdn.predict(np.array(Image.open(lr)))\n",
    "Image.fromarray(image_sr).save(sr, dpi=(dpi, dpi))\n"
   ],
   "metadata": {
    "collapsed": false,
    "pycharm": {
     "name": "#%%\n",
     "is_executing": false
    }
   }
  },
  {
   "cell_type": "markdown",
   "source": [
    "## Load images"
   ],
   "metadata": {
    "collapsed": false
   }
  },
  {
   "cell_type": "code",
   "execution_count": 16,
   "outputs": [],
   "source": [
    "image_HR = cv2.imread(hr)\n",
    "image_SR = cv2.imread(sr)\n",
    "\n",
    "if image_HR.size > image_SR.size:\n",
    "    image_HR = image_HR[:image_SR.shape[0], :image_SR.shape[1]]\n",
    "else:\n",
    "    image_SR = image_SR[:image_HR.shape[0], :image_HR.shape[1]]\n",
    "\n"
   ],
   "metadata": {
    "collapsed": false,
    "pycharm": {
     "name": "#%%\n",
     "is_executing": false
    }
   }
  },
  {
   "cell_type": "markdown",
   "source": [
    "## Masking the original image with the difference with the predicted "
   ],
   "metadata": {
    "collapsed": false
   }
  },
  {
   "cell_type": "code",
   "execution_count": 19,
   "outputs": [],
   "source": [
    "for mask_name, mask in masks.items():\n",
    "    mask_div = np.ones(image_HR.shape) * 255 - image_HR + image_SR\n",
    "    mask_div = mask_div.transpose([2, 0, 1])\n",
    "    mask_div = np.array([mask_div[i] * mask[i] for i in range(3)], dtype=np.uint8)\n",
    "    mask_div = mask_div.transpose([1, 2, 0])\n",
    "    Image.fromarray(mask_div + image_HR).save(dst_path.format(mask=mask_name, time=time))"
   ],
   "metadata": {
    "collapsed": false,
    "pycharm": {
     "name": "#%%\n",
     "is_executing": false
    }
   }
  },
  {
   "cell_type": "code",
   "execution_count": null,
   "outputs": [],
   "source": [
    "\n"
   ],
   "metadata": {
    "collapsed": false,
    "pycharm": {
     "name": "#%%\n"
    }
   }
  }
 ],
 "metadata": {
  "language_info": {
   "codemirror_mode": {
    "name": "ipython",
    "version": 2
   },
   "file_extension": ".py",
   "mimetype": "text/x-python",
   "name": "python",
   "nbconvert_exporter": "python",
   "pygments_lexer": "ipython2",
   "version": "2.7.6"
  },
  "kernelspec": {
   "name": "python3",
   "language": "python",
   "display_name": "Python 3"
  },
  "pycharm": {
   "stem_cell": {
    "cell_type": "raw",
    "source": [],
    "metadata": {
     "collapsed": false
    }
   }
  }
 },
 "nbformat": 4,
 "nbformat_minor": 0
}