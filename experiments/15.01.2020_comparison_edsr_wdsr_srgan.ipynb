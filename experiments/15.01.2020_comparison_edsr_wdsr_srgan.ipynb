{
 "cells": [
  {
   "cell_type": "markdown",
   "metadata": {
    "colab_type": "text",
    "id": "us7neWl-YQ3g"
   },
   "source": [
    "# Comparison EDSR, WDSR and SRGAN"
   ]
  },
  {
   "cell_type": "markdown",
   "metadata": {
    "colab_type": "text",
    "id": "da3C42acEsF-"
   },
   "source": [
    "## Описание задачи"
   ]
  },
  {
   "cell_type": "markdown",
   "metadata": {},
   "source": [
    "Рассмотреть модели EDSR, WDSR и SRGAN для Super Resolution из репозитория https://github.com/krasserm/super-resolution"
   ]
  },
  {
   "cell_type": "markdown",
   "metadata": {
    "colab_type": "text",
    "id": "XAsBXbkYEsz4"
   },
   "source": [
    "Ссылка на обученный датасет: https://data.vision.ee.ethz.ch/cvl/DIV2K/"
   ]
  },
  {
   "cell_type": "markdown",
   "metadata": {
    "colab_type": "text",
    "id": "cV8MQxDwY6YV"
   },
   "source": [
    "### Import"
   ]
  },
  {
   "cell_type": "markdown",
   "metadata": {},
   "source": [
    "Mount к локальному Google Disk"
   ]
  },
  {
   "cell_type": "code",
   "execution_count": 10,
   "metadata": {
    "colab": {
     "base_uri": "https://localhost:8080/",
     "height": 34
    },
    "colab_type": "code",
    "executionInfo": {
     "elapsed": 2300,
     "status": "ok",
     "timestamp": 1579077550374,
     "user": {
      "displayName": "Герман Петров",
      "photoUrl": "",
      "userId": "13617509376705760022"
     },
     "user_tz": -180
    },
    "id": "W6PQf970YIOG",
    "outputId": "a4d8d053-1028-4a27-e664-eebe941d14f2"
   },
   "outputs": [
    {
     "ename": "ModuleNotFoundError",
     "evalue": "No module named 'google'",
     "output_type": "error",
     "traceback": [
      "\u001b[0;31m---------------------------------------------------------------------------\u001b[0m",
      "\u001b[0;31mModuleNotFoundError\u001b[0m                       Traceback (most recent call last)",
      "\u001b[0;32m<ipython-input-10-d5df0069828e>\u001b[0m in \u001b[0;36m<module>\u001b[0;34m\u001b[0m\n\u001b[0;32m----> 1\u001b[0;31m \u001b[0;32mfrom\u001b[0m \u001b[0mgoogle\u001b[0m\u001b[0;34m.\u001b[0m\u001b[0mcolab\u001b[0m \u001b[0;32mimport\u001b[0m \u001b[0mdrive\u001b[0m\u001b[0;34m\u001b[0m\u001b[0;34m\u001b[0m\u001b[0m\n\u001b[0m\u001b[1;32m      2\u001b[0m \u001b[0mdrive\u001b[0m\u001b[0;34m.\u001b[0m\u001b[0mmount\u001b[0m\u001b[0;34m(\u001b[0m\u001b[0;34m'/content/drive'\u001b[0m\u001b[0;34m)\u001b[0m\u001b[0;34m\u001b[0m\u001b[0;34m\u001b[0m\u001b[0m\n",
      "\u001b[0;31mModuleNotFoundError\u001b[0m: No module named 'google'"
     ]
    }
   ],
   "source": [
    "from google.colab import drive\n",
    "drive.mount('/content/drive')"
   ]
  },
  {
   "cell_type": "code",
   "execution_count": 11,
   "metadata": {
    "colab": {},
    "colab_type": "code",
    "id": "OKBDx7qSYR5k"
   },
   "outputs": [],
   "source": [
    "import sys\n",
    "import os\n",
    "sys.path.append(os.path.abspath('/content/drive/My Drive/Colab Notebooks/super-resolution'))"
   ]
  },
  {
   "cell_type": "code",
   "execution_count": 16,
   "metadata": {
    "colab": {
     "base_uri": "https://localhost:8080/",
     "height": 649
    },
    "colab_type": "code",
    "executionInfo": {
     "elapsed": 8613,
     "status": "ok",
     "timestamp": 1579077556698,
     "user": {
      "displayName": "Герман Петров",
      "photoUrl": "",
      "userId": "13617509376705760022"
     },
     "user_tz": -180
    },
    "id": "Z1b0olT4cozN",
    "outputId": "a869ddff-ad91-4b96-9dbf-ed66d4236319"
   },
   "outputs": [
    {
     "name": "stdout",
     "output_type": "stream",
     "text": [
      "\u001b[33mWARNING: Retrying (Retry(total=4, connect=None, read=None, redirect=None, status=None)) after connection broken by 'SSLError(SSLError(\"bad handshake: Error([('SSL routines', 'tls_process_server_certificate', 'certificate verify failed')],)\",),)': /simple/tensorflow-addons/\u001b[0m\n",
      "\u001b[33mWARNING: Retrying (Retry(total=3, connect=None, read=None, redirect=None, status=None)) after connection broken by 'SSLError(SSLError(\"bad handshake: Error([('SSL routines', 'tls_process_server_certificate', 'certificate verify failed')],)\",),)': /simple/tensorflow-addons/\u001b[0m\n",
      "\u001b[33mWARNING: Retrying (Retry(total=2, connect=None, read=None, redirect=None, status=None)) after connection broken by 'SSLError(SSLError(\"bad handshake: Error([('SSL routines', 'tls_process_server_certificate', 'certificate verify failed')],)\",),)': /simple/tensorflow-addons/\u001b[0m\n",
      "\u001b[33mWARNING: Retrying (Retry(total=1, connect=None, read=None, redirect=None, status=None)) after connection broken by 'SSLError(SSLError(\"bad handshake: Error([('SSL routines', 'tls_process_server_certificate', 'certificate verify failed')],)\",),)': /simple/tensorflow-addons/\u001b[0m\n",
      "\u001b[33mWARNING: Retrying (Retry(total=0, connect=None, read=None, redirect=None, status=None)) after connection broken by 'SSLError(SSLError(\"bad handshake: Error([('SSL routines', 'tls_process_server_certificate', 'certificate verify failed')],)\",),)': /simple/tensorflow-addons/\u001b[0m\n",
      "Could not fetch URL https://pypi.org/simple/tensorflow-addons/: There was a problem confirming the ssl certificate: HTTPSConnectionPool(host='pypi.org', port=443): Max retries exceeded with url: /simple/tensorflow-addons/ (Caused by SSLError(SSLError(\"bad handshake: Error([('SSL routines', 'tls_process_server_certificate', 'certificate verify failed')],)\",),)) - skipping\n",
      "\u001b[31mERROR: Could not find a version that satisfies the requirement tensorflow_addons (from versions: none)\u001b[0m\n",
      "\u001b[31mERROR: No matching distribution found for tensorflow_addons\u001b[0m\n"
     ]
    }
   ],
   "source": [
    "!pip install tensorflow_addons"
   ]
  },
  {
   "cell_type": "code",
   "execution_count": null,
   "metadata": {
    "colab": {},
    "colab_type": "code",
    "id": "7whs5Es9YR7r"
   },
   "outputs": [],
   "source": [
    "import os\n",
    "import matplotlib.pyplot as plt\n",
    "\n",
    "import tensorflow as tf\n",
    "# tf.enable_eager_execution()\n",
    "\n",
    "import cv2\n",
    "\n",
    "%matplotlib inline"
   ]
  },
  {
   "cell_type": "code",
   "execution_count": null,
   "metadata": {
    "colab": {},
    "colab_type": "code",
    "id": "pM3UW20VZMQ5"
   },
   "outputs": [],
   "source": [
    "# Location of model weights (needed for demo)\n",
    "weights_dir = '/content/drive/My Drive/Colab Notebooks/super-resolution/weights/'\n",
    "weights_file = lambda filename: os.path.join(weights_dir, filename)\n",
    "\n",
    "os.makedirs(weights_dir, exist_ok=True)"
   ]
  },
  {
   "cell_type": "markdown",
   "metadata": {
    "colab_type": "text",
    "id": "6a6wIHS7axY3"
   },
   "source": [
    "### utils"
   ]
  },
  {
   "cell_type": "markdown",
   "metadata": {},
   "source": [
    "Здесь собраны следующие вспомогательные функции:\n",
    " - save_picture - подгрузка изображения\n",
    " - resolve_and_plot - применить SISR(single image super resolution) к картинке\n",
    " - result_plot - визуальное сравнение результатов работы всех моделей друг с другом и оригиналом"
   ]
  },
  {
   "cell_type": "code",
   "execution_count": null,
   "metadata": {
    "colab": {},
    "colab_type": "code",
    "id": "69QGLPN3Z7Pv"
   },
   "outputs": [],
   "source": [
    "from model import resolve_single\n",
    "from utils import load_image, plot_sample\n",
    "\n",
    "# name of dir for save results\n",
    "output_dir = '/content/drive/My Drive/Colab Notebooks/super-resolution/output/'\n",
    "# name of dir for take pictures\n",
    "example_dir = '/content/drive/My Drive/Colab Notebooks/super-resolution/demo'\n",
    "\n",
    "def save_picture(lr_image_path, filename, model):\n",
    "    lr = load_image(lr_image_path)\n",
    "    sr = resolve_single(model, lr)\n",
    "\n",
    "    cv2.imwrite(os.path.join(output_dir, filename), sr.numpy())\n",
    "\n",
    "def resolve_and_plot(lr_image_path, model, name):\n",
    "    lr = load_image(lr_image_path)\n",
    "    sr = resolve_single(model, lr)\n",
    "\n",
    "    plt.figure(figsize=(20, 20))\n",
    "    \n",
    "    images = [lr, sr]\n",
    "    titles = ['LR', name]\n",
    "    positions = [1, 2]\n",
    "    \n",
    "    for i, (img, title, pos) in enumerate(zip(images, titles, positions)):\n",
    "        plt.subplot(2, 2, pos)\n",
    "        plt.imshow(img)\n",
    "        plt.title(title)\n",
    "        plt.xticks([])\n",
    "        plt.yticks([])\n",
    "\n",
    "def result_plot(images):\n",
    "    plt.figure(figsize=(20, 20))\n",
    "\n",
    "    titles = ['LR', 'EDSR', 'WDSR', 'SRGAN']\n",
    "    positions = [1, 2, 3, 4]\n",
    "    \n",
    "    for i, (img, title, pos) in enumerate(zip(images, titles, positions)):\n",
    "        plt.subplot(2, 2, pos)\n",
    "        plt.imshow(img)\n",
    "        plt.title(title)\n",
    "        plt.xticks([])\n",
    "        plt.yticks([])"
   ]
  },
  {
   "cell_type": "markdown",
   "metadata": {
    "colab_type": "text",
    "id": "Rf4PxbpXY9WU"
   },
   "source": [
    "## Run models"
   ]
  },
  {
   "cell_type": "markdown",
   "metadata": {
    "colab_type": "text",
    "id": "VjvZWZFAY8x3"
   },
   "source": [
    "### EDSR"
   ]
  },
  {
   "cell_type": "code",
   "execution_count": null,
   "metadata": {
    "colab": {},
    "colab_type": "code",
    "id": "CnpOYLDXYR95"
   },
   "outputs": [],
   "source": [
    "# Number of residual blocks\n",
    "depth = 16\n",
    "\n",
    "# Super-resolution factor\n",
    "scale = 4\n",
    "\n",
    "# Downgrade operator\n",
    "downgrade = 'bicubic'"
   ]
  },
  {
   "cell_type": "code",
   "execution_count": null,
   "metadata": {
    "colab": {},
    "colab_type": "code",
    "id": "I_IxRcd8YSBm"
   },
   "outputs": [],
   "source": [
    "from model.edsr import edsr\n",
    "\n",
    "model_edsr = edsr(scale=scale, num_res_blocks=depth)\n",
    "model_edsr.load_weights(weights_file('EDSR/weights.h5'))"
   ]
  },
  {
   "cell_type": "code",
   "execution_count": null,
   "metadata": {
    "colab": {
     "base_uri": "https://localhost:8080/",
     "height": 533
    },
    "colab_type": "code",
    "executionInfo": {
     "elapsed": 15738,
     "status": "ok",
     "timestamp": 1579077563851,
     "user": {
      "displayName": "Герман Петров",
      "photoUrl": "",
      "userId": "13617509376705760022"
     },
     "user_tz": -180
    },
    "id": "MFWto31yYSDo",
    "outputId": "a0a0ba58-1d27-4c01-e847-75cfc6d140d8"
   },
   "outputs": [],
   "source": [
    "resolve_and_plot(os.path.join(example_dir, '0829x4-crop.png'), model_edsr, 'EDSR')\n",
    "save_picture(os.path.join(example_dir, 'rt.jpg'), 'picture_edsr.jpg', model_edsr)"
   ]
  },
  {
   "cell_type": "markdown",
   "metadata": {
    "colab_type": "text",
    "id": "nLZkFMoNZ0Yy"
   },
   "source": [
    "### WDSR"
   ]
  },
  {
   "cell_type": "code",
   "execution_count": null,
   "metadata": {
    "colab": {},
    "colab_type": "code",
    "id": "URWPzxihYSFs"
   },
   "outputs": [],
   "source": [
    "# Number of residual blocks\n",
    "depth = 32\n",
    "\n",
    "# Super-resolution factor\n",
    "scale = 4\n",
    "\n",
    "# Downgrade operator\n",
    "downgrade = 'bicubic'"
   ]
  },
  {
   "cell_type": "code",
   "execution_count": null,
   "metadata": {
    "colab": {},
    "colab_type": "code",
    "id": "lx7Fq9o1ZyhR"
   },
   "outputs": [],
   "source": [
    "from model.wdsr import wdsr_b\n",
    "\n",
    "model_wdsr = wdsr_b(scale=scale, num_res_blocks=depth)\n",
    "model_wdsr.load_weights(weights_file('WDSR/weights.h5'))"
   ]
  },
  {
   "cell_type": "code",
   "execution_count": null,
   "metadata": {
    "colab": {
     "base_uri": "https://localhost:8080/",
     "height": 533
    },
    "colab_type": "code",
    "executionInfo": {
     "elapsed": 23266,
     "status": "ok",
     "timestamp": 1579077571396,
     "user": {
      "displayName": "Герман Петров",
      "photoUrl": "",
      "userId": "13617509376705760022"
     },
     "user_tz": -180
    },
    "id": "BPI1fuukZyjl",
    "outputId": "13ff170f-ee31-42f1-9527-0cf43dbbd3b7"
   },
   "outputs": [],
   "source": [
    "resolve_and_plot(os.path.join(example_dir, '0829x4-crop.png'), model_wdsr, 'WDSR')\n",
    "save_picture(os.path.join(example_dir, 'rt.jpg'), 'picture_wdsr.jpg', model_wdsr)"
   ]
  },
  {
   "cell_type": "markdown",
   "metadata": {
    "colab_type": "text",
    "id": "X8ittRNLde31"
   },
   "source": [
    "### SRGAN"
   ]
  },
  {
   "cell_type": "code",
   "execution_count": null,
   "metadata": {
    "colab": {},
    "colab_type": "code",
    "id": "ScfOMWCrZyoB"
   },
   "outputs": [],
   "source": [
    "from model.srgan import generator, discriminator\n",
    "\n",
    "pre_generator = generator()\n",
    "gan_generator = generator()\n",
    "\n",
    "pre_generator.load_weights(weights_file('SRGAN/pre_generator.h5'))\n",
    "gan_generator.load_weights(weights_file('SRGAN/gan_generator.h5'))"
   ]
  },
  {
   "cell_type": "code",
   "execution_count": null,
   "metadata": {
    "colab": {
     "base_uri": "https://localhost:8080/",
     "height": 533
    },
    "colab_type": "code",
    "executionInfo": {
     "elapsed": 29301,
     "status": "ok",
     "timestamp": 1579077577444,
     "user": {
      "displayName": "Герман Петров",
      "photoUrl": "",
      "userId": "13617509376705760022"
     },
     "user_tz": -180
    },
    "id": "EUZQe7tVZypw",
    "outputId": "2838fa56-088d-44be-dbd9-bf87127b77f0"
   },
   "outputs": [],
   "source": [
    "resolve_and_plot(os.path.join(example_dir, '0829x4-crop.png'), gan_generator, 'SRGAN')\n",
    "save_picture(os.path.join(example_dir, 'rt.jpg'), 'picture_srgan.jpg', gan_generator)"
   ]
  },
  {
   "cell_type": "markdown",
   "metadata": {
    "colab_type": "text",
    "id": "MDK5_QkuZysI"
   },
   "source": [
    "## Results"
   ]
  },
  {
   "cell_type": "code",
   "execution_count": null,
   "metadata": {
    "colab": {
     "base_uri": "https://localhost:8080/",
     "height": 989
    },
    "colab_type": "code",
    "executionInfo": {
     "elapsed": 33309,
     "status": "ok",
     "timestamp": 1579077581458,
     "user": {
      "displayName": "Герман Петров",
      "photoUrl": "",
      "userId": "13617509376705760022"
     },
     "user_tz": -180
    },
    "id": "crjXmKrZZyuU",
    "outputId": "d4c038ea-2020-465f-a22a-d08e5eac83e0"
   },
   "outputs": [],
   "source": [
    "pic_0 = cv2.imread(os.path.join(example_dir, 'rt.jpg'))\n",
    "pic_1 = cv2.imread(os.path.join(output_dir, 'picture_edsr.jpg'))\n",
    "pic_2 = cv2.imread(os.path.join(output_dir, 'picture_wdsr.jpg'))\n",
    "pic_3 = cv2.imread(os.path.join(output_dir, 'picture_srgan.jpg'))\n",
    "\n",
    "images = [pic_0, pic_1, pic_2, pic_3]\n",
    "result_plot(images)"
   ]
  },
  {
   "cell_type": "markdown",
   "metadata": {
    "colab": {},
    "colab_type": "code",
    "id": "fTfEgAg4ZywA"
   },
   "source": [
    "### Сравнение по метрикам"
   ]
  },
  {
   "cell_type": "code",
   "execution_count": null,
   "metadata": {
    "colab": {},
    "colab_type": "code",
    "id": "YnrC3BaBZy4H"
   },
   "outputs": [],
   "source": []
  },
  {
   "cell_type": "markdown",
   "metadata": {},
   "source": [
    "## Conclusion"
   ]
  },
  {
   "cell_type": "code",
   "execution_count": null,
   "metadata": {},
   "outputs": [],
   "source": []
  },
  {
   "cell_type": "code",
   "execution_count": null,
   "metadata": {},
   "outputs": [],
   "source": []
  },
  {
   "cell_type": "code",
   "execution_count": null,
   "metadata": {},
   "outputs": [],
   "source": []
  },
  {
   "cell_type": "code",
   "execution_count": null,
   "metadata": {},
   "outputs": [],
   "source": []
  }
 ],
 "metadata": {
  "accelerator": "GPU",
  "colab": {
   "authorship_tag": "ABX9TyNNfZi3vu3EiAME3EgMaRBo",
   "collapsed_sections": [],
   "name": "15.01.2020_comparison_edsr_wdsr_srgan.ipynb",
   "provenance": [],
   "toc_visible": true
  },
  "kernelspec": {
   "display_name": "Python 3",
   "language": "python",
   "name": "python3"
  },
  "language_info": {
   "codemirror_mode": {
    "name": "ipython",
    "version": 3
   },
   "file_extension": ".py",
   "mimetype": "text/x-python",
   "name": "python",
   "nbconvert_exporter": "python",
   "pygments_lexer": "ipython3",
   "version": "3.7.1"
  }
 },
 "nbformat": 4,
 "nbformat_minor": 1
}
